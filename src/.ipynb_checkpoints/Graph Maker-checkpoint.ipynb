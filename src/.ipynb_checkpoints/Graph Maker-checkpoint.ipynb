{
 "cells": [
  {
   "cell_type": "code",
   "execution_count": null,
   "id": "59b84976-892a-437d-b54e-2ed1c5bc28fc",
   "metadata": {},
   "outputs": [],
   "source": [
    "import pandas as pd\n",
    "from matplotlib import pyplot as plt\n",
    "import os\n",
    "import numpy as np"
   ]
  },
  {
   "cell_type": "code",
   "execution_count": null,
   "id": "66313cc1-04e6-4c42-bbd4-3c812e21c772",
   "metadata": {},
   "outputs": [],
   "source": [
    "column_titles = [\"Seed\", \"Bot #\", \"\", \"Num of Steps\"]\n",
    "# 1, 2, 3, 4, 5, 6, 7 currently have data\n",
    "deterministic = {1, 2, 5, 6}\n",
    "probabalistic = {3, 4, 7, 8, 9}\n",
    "dataframes = [None]\n",
    "for i in range(1, 10):\n",
    "    dataframes.append(None)\n",
    "    path = \"../data/bot_{}.csv\".format(i)\n",
    "    if not os.path.isfile(path):\n",
    "        continue\n",
    "    column_titles[2] = \"K\" if i in deterministic else \"Alpha\"\n",
    "    df = pd.read_csv(path, names=column_titles)\n",
    "    if i in probabalistic:\n",
    "        df = df[df.Alpha != 0.000000]\n",
    "        df[\"Alpha\"] = ((df[\"Alpha\"]*1e6).astype(int).astype(float))/1e6\n",
    "    dataframes[i] = df"
   ]
  },
  {
   "cell_type": "code",
   "execution_count": null,
   "id": "cfe65360-f5b7-4189-b7b9-f0d4866f5990",
   "metadata": {},
   "outputs": [],
   "source": [
    "path = \"../data/bot_{}(1).csv\".format(4)\n",
    "df = pd.read_csv(path, names=column_titles)\n",
    "df = df[df.Alpha != 0.000000]\n",
    "df[\"Alpha\"] = ((df[\"Alpha\"]*1e6).astype(int).astype(float))/1e6\n",
    "dataframes.append(df)"
   ]
  },
  {
   "cell_type": "code",
   "execution_count": null,
   "id": "7fc412d4-a29c-45b4-bf57-3a76c26651fb",
   "metadata": {},
   "outputs": [],
   "source": [
    "dataframes[8]"
   ]
  },
  {
   "cell_type": "markdown",
   "id": "43e0933b-94f2-4ea1-8929-bfb5e67a726f",
   "metadata": {
    "jp-MarkdownHeadingCollapsed": true
   },
   "source": [
    "##### Bot 1 vs Bot 2 as a function of _k_"
   ]
  },
  {
   "cell_type": "code",
   "execution_count": null,
   "id": "66efdd49-a942-437a-8e72-f0f5c09cf818",
   "metadata": {},
   "outputs": [],
   "source": [
    "# Bot 1\n",
    "df1 = dataframes[1]\n",
    "k_averages_1 = df1.groupby('K')['Num of Steps'].mean().reset_index()\n",
    "k_averages_1"
   ]
  },
  {
   "cell_type": "code",
   "execution_count": null,
   "id": "eed35681-2e3f-4d00-bcc2-9f6c5510f7db",
   "metadata": {},
   "outputs": [],
   "source": [
    "# Bot 2\n",
    "df2 = dataframes[2]\n",
    "k_averages_2 = df2.groupby('K')['Num of Steps'].mean().reset_index()\n",
    "k_averages_2"
   ]
  },
  {
   "cell_type": "code",
   "execution_count": null,
   "id": "c549dbbd-abe0-40e9-8865-b0865f461c45",
   "metadata": {},
   "outputs": [],
   "source": [
    "plt.plot(k_averages_1['K'], k_averages_1['Num of Steps'], marker='o', linestyle='-', label = \"Bot 1\")\n",
    "plt.plot(k_averages_2['K'], k_averages_2['Num of Steps'], marker='o', linestyle='-', label = \"Bot 2\")\n",
    "plt.xticks(np.arange(1, 9, 1))\n",
    "plt.yticks(np.arange(0, 550, 50)) \n",
    "plt.xlabel('K Value')\n",
    "plt.ylabel('Timesteps')\n",
    "plt.title('Bot 1 vs Bot 2')\n",
    "plt.grid(True)  # Display grid lines\n",
    "plt.legend()\n",
    "plt.savefig('../data/plots/bot1_vs_bot2.png')"
   ]
  },
  {
   "cell_type": "markdown",
   "id": "8d8c06a5-2330-4064-af38-a7950c644f87",
   "metadata": {
    "jp-MarkdownHeadingCollapsed": true
   },
   "source": [
    "##### Bot 3 vs Bot 4 as a function of _α_"
   ]
  },
  {
   "cell_type": "code",
   "execution_count": null,
   "id": "8d973209-db2b-4800-8491-a56084c6f173",
   "metadata": {},
   "outputs": [],
   "source": [
    "# Bot 3\n",
    "df3 = dataframes[3]\n",
    "alpha_averages_3 = df3.groupby('Alpha')['Num of Steps'].mean().reset_index()\n",
    "alpha_averages_3"
   ]
  },
  {
   "cell_type": "code",
   "execution_count": null,
   "id": "08d27368-4e45-421f-8c04-2e1702368ea6",
   "metadata": {},
   "outputs": [],
   "source": [
    "# Bot 4\n",
    "df4 = dataframes[4]\n",
    "alpha_averages_4 = df4.groupby('Alpha')['Num of Steps'].mean().reset_index()\n",
    "alpha_averages_4"
   ]
  },
  {
   "cell_type": "code",
   "execution_count": null,
   "id": "d4dcd5a9-de0e-4189-91ef-f7ec7aefcfad",
   "metadata": {},
   "outputs": [],
   "source": [
    "plt.plot(alpha_averages_3['Alpha'], alpha_averages_3['Num of Steps'], marker='o', linestyle='-', label = \"Bot 3\")\n",
    "plt.plot(alpha_averages_4['Alpha'], alpha_averages_4['Num of Steps'], marker='o', linestyle='-', label = \"Bot 4\")\n",
    "plt.xticks(list(np.arange(0, 0.11, 0.01)))\n",
    "plt.yticks(np.arange(0, 650, 50)) \n",
    "plt.xlabel('α Value')\n",
    "plt.ylabel('Timesteps')\n",
    "plt.title('Bot 3 vs Bot 4')\n",
    "plt.grid(True)  # Display grid lines\n",
    "plt.legend()\n",
    "plt.savefig('../data/plots/bot3_vs_bot4.png')"
   ]
  },
  {
   "cell_type": "markdown",
   "id": "e8c11640-f02f-4a5f-94b0-e856f19c9041",
   "metadata": {
    "jp-MarkdownHeadingCollapsed": true
   },
   "source": [
    "##### Bot 5 vs Bot 6 as a function of _k_"
   ]
  },
  {
   "cell_type": "code",
   "execution_count": null,
   "id": "5e67a5f7-8e7b-4b89-9026-f16349d7d112",
   "metadata": {},
   "outputs": [],
   "source": [
    "# Bot 5\n",
    "df5 = dataframes[5]\n",
    "k_averages_5 = df5.groupby('K')['Num of Steps'].mean().reset_index()\n",
    "k_averages_5"
   ]
  },
  {
   "cell_type": "code",
   "execution_count": null,
   "id": "da23c012-378b-44f8-a5b9-421b4fdd2383",
   "metadata": {},
   "outputs": [],
   "source": [
    "# Bot 6\n",
    "df6 = dataframes[6]\n",
    "k_averages_6 = df6.groupby('K')['Num of Steps'].mean().reset_index()\n",
    "k_averages_6"
   ]
  },
  {
   "cell_type": "code",
   "execution_count": null,
   "id": "b7aeefba-086c-42b2-a839-5d317e4812b6",
   "metadata": {},
   "outputs": [],
   "source": [
    "plt.plot(k_averages_5['K'], k_averages_5['Num of Steps'], marker='o', linestyle='-', label = \"Bot 5\")\n",
    "plt.plot(k_averages_6['K'], k_averages_6['Num of Steps'], marker='o', linestyle='-', label = \"Bot 6\")\n",
    "plt.xticks(np.arange(1, 9, 1))\n",
    "plt.yticks(np.arange(0, 650, 50)) \n",
    "plt.xlabel('K Value')\n",
    "plt.ylabel('Timesteps')\n",
    "plt.title('Bot 5 vs Bot 6')\n",
    "plt.grid(True)  # Display grid lines\n",
    "plt.legend()\n",
    "plt.savefig('../data/plots/bot5_vs_bot6.png')"
   ]
  },
  {
   "cell_type": "markdown",
   "id": "08f3e166-13da-4beb-8141-c8b00008ccfc",
   "metadata": {
    "jp-MarkdownHeadingCollapsed": true
   },
   "source": [
    "##### Bot 7 vs Bot 8 vs Bot 9 as a function of _α_"
   ]
  },
  {
   "cell_type": "code",
   "execution_count": null,
   "id": "4d861008-8ab4-464a-916f-1da96b266ad9",
   "metadata": {},
   "outputs": [],
   "source": [
    "# Bot 7\n",
    "df7 = dataframes[7]\n",
    "alpha_averages_7 = df7.groupby('Alpha')['Num of Steps'].mean().reset_index()\n",
    "alpha_averages_7"
   ]
  },
  {
   "cell_type": "code",
   "execution_count": null,
   "id": "455667a4-a070-4cca-b6df-2aac69d0d6d9",
   "metadata": {},
   "outputs": [],
   "source": [
    "# Bot 8\n",
    "df8 = dataframes[8]\n",
    "alpha_averages_8 = df8.groupby('Alpha')['Num of Steps'].mean().reset_index()\n",
    "alpha_averages_8"
   ]
  },
  {
   "cell_type": "code",
   "execution_count": null,
   "id": "4ea87a20-ad81-4ca4-98e8-cc9ddb7a2b2d",
   "metadata": {},
   "outputs": [],
   "source": [
    "# Bot 9\n",
    "df9 = dataframes[9]\n",
    "alpha_averages_9 = df9.groupby('Alpha')['Num of Steps'].mean().reset_index()\n",
    "alpha_averages_9"
   ]
  },
  {
   "cell_type": "code",
   "execution_count": null,
   "id": "14ce2bdf-6981-458a-8294-4b21d56534e8",
   "metadata": {},
   "outputs": [],
   "source": [
    "plt.plot(alpha_averages_7['Alpha'], alpha_averages_7['Num of Steps'], marker='o', linestyle='-', label = \"Bot 7\")\n",
    "plt.plot(alpha_averages_8['Alpha'], alpha_averages_8['Num of Steps'], marker='o', linestyle='-', label = \"Bot 8\")\n",
    "#plt.plot(alpha_averages_9['Alpha'], alpha_averages_9['Num of Steps'], marker='o', linestyle='-', label = \"Bot 9\")\n",
    "plt.xticks(list(np.arange(0, 0.11, 0.01)))\n",
    "plt.yticks(np.arange(0, 900, 50)) \n",
    "plt.xlabel('α Value')\n",
    "plt.ylabel('Timesteps')\n",
    "plt.title('Bot 7 vs Bot 8 vs Bot 9')\n",
    "plt.grid(True)  # Display grid lines\n",
    "plt.legend()\n",
    "plt.savefig('../data/plots/bot7_vs_bot8_vs_bot9.png')"
   ]
  },
  {
   "cell_type": "code",
   "execution_count": null,
   "id": "d78ade93-08b3-4555-9d19-8d6b99267c06",
   "metadata": {},
   "outputs": [],
   "source": []
  }
 ],
 "metadata": {
  "kernelspec": {
   "display_name": "Python 3 (ipykernel)",
   "language": "python",
   "name": "python3"
  },
  "language_info": {
   "codemirror_mode": {
    "name": "ipython",
    "version": 3
   },
   "file_extension": ".py",
   "mimetype": "text/x-python",
   "name": "python",
   "nbconvert_exporter": "python",
   "pygments_lexer": "ipython3",
   "version": "3.10.10"
  }
 },
 "nbformat": 4,
 "nbformat_minor": 5
}
